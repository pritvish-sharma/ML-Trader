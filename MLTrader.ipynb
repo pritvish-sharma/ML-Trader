{
  "nbformat": 4,
  "nbformat_minor": 0,
  "metadata": {
    "kernelspec": {
      "display_name": "Python 3",
      "language": "python",
      "name": "python3"
    },
    "language_info": {
      "codemirror_mode": {
        "name": "ipython",
        "version": 3
      },
      "file_extension": ".py",
      "mimetype": "text/x-python",
      "name": "python",
      "nbconvert_exporter": "python",
      "pygments_lexer": "ipython3",
      "version": "3.5.2"
    },
    "colab": {
      "name": "MLTrader.ipynb",
      "provenance": [],
      "collapsed_sections": []
    }
  },
  "cells": [
    {
      "cell_type": "code",
      "metadata": {
        "deletable": true,
        "editable": true,
        "colab": {
          "base_uri": "https://localhost:8080/"
        },
        "id": "EgQTb0N1TEbm",
        "outputId": "27916595-574a-444a-b5ea-c1b2ad1470f3"
      },
      "source": [
        "import numpy as np\n",
        "import pandas as pd\n",
        "from sklearn.ensemble import *\n",
        "import xgboost as xgb\n",
        "import operator\n",
        "\n",
        "!pip install ta\n",
        "import ta"
      ],
      "execution_count": 4,
      "outputs": [
        {
          "output_type": "stream",
          "text": [
            "Requirement already satisfied: ta in /usr/local/lib/python3.7/dist-packages (0.7.0)\n",
            "Requirement already satisfied: numpy in /usr/local/lib/python3.7/dist-packages (from ta) (1.19.5)\n",
            "Requirement already satisfied: pandas in /usr/local/lib/python3.7/dist-packages (from ta) (1.1.5)\n",
            "Requirement already satisfied: pytz>=2017.2 in /usr/local/lib/python3.7/dist-packages (from pandas->ta) (2018.9)\n",
            "Requirement already satisfied: python-dateutil>=2.7.3 in /usr/local/lib/python3.7/dist-packages (from pandas->ta) (2.8.1)\n",
            "Requirement already satisfied: six>=1.5 in /usr/local/lib/python3.7/dist-packages (from python-dateutil>=2.7.3->pandas->ta) (1.15.0)\n"
          ],
          "name": "stdout"
        }
      ]
    },
    {
      "cell_type": "code",
      "metadata": {
        "collapsed": true,
        "deletable": true,
        "editable": true,
        "id": "s0F_0vBhTEbp"
      },
      "source": [
        "df = pd.read_csv('data.csv')"
      ],
      "execution_count": 3,
      "outputs": []
    },
    {
      "cell_type": "code",
      "metadata": {
        "deletable": true,
        "editable": true,
        "colab": {
          "base_uri": "https://localhost:8080/"
        },
        "id": "1YOX9VJVTEbp",
        "outputId": "638039e2-433c-40d1-f343-950eb4bd385f"
      },
      "source": [
        "df.shape"
      ],
      "execution_count": 6,
      "outputs": [
        {
          "output_type": "stream",
          "text": [
            "(52974, 8)\n"
          ],
          "name": "stdout"
        }
      ]
    },
    {
      "cell_type": "code",
      "metadata": {
        "collapsed": true,
        "deletable": true,
        "editable": true,
        "id": "4ZW_3XoATEbr"
      },
      "source": [
        "df = df.dropna()"
      ],
      "execution_count": 6,
      "outputs": []
    },
    {
      "cell_type": "code",
      "metadata": {
        "deletable": true,
        "editable": true,
        "colab": {
          "base_uri": "https://localhost:8080/"
        },
        "id": "zZlBy0E_TEbr",
        "outputId": "80345e3b-fcc5-4794-b17d-c98ecd23b5ee"
      },
      "source": [
        "df.shape()"
      ],
      "execution_count": 7,
      "outputs": [
        {
          "output_type": "stream",
          "text": [
            "(52974, 8)\n"
          ],
          "name": "stdout"
        }
      ]
    },
    {
      "cell_type": "code",
      "metadata": {
        "id": "dQL67BUHTEbs"
      },
      "source": [
        "df['Close_target'] = df['Close'].shift(-1)\n",
        "df = df.dropna()"
      ],
      "execution_count": 7,
      "outputs": []
    },
    {
      "cell_type": "code",
      "metadata": {
        "collapsed": true,
        "deletable": true,
        "editable": true,
        "id": "AoIr--xwTEbt"
      },
      "source": [
        "df.loc[df.Close + (df.Close * settings.PERCENT_UP) < df.Close_target, \"Target\"] = 1 # 'UP'\n",
        "df.loc[df.Close - (df.Close * settings.PERCENT_DOWN) > df.Close_target, \"Target\"] = 2 # 'DOWN'"
      ],
      "execution_count": 7,
      "outputs": []
    },
    {
      "cell_type": "code",
      "metadata": {
        "deletable": true,
        "editable": true,
        "colab": {
          "base_uri": "https://localhost:8080/"
        },
        "id": "XYoG9q2vTEbu",
        "outputId": "bad7410d-ed42-45f6-a025-718e18f4b5bd"
      },
      "source": [
        "print(df.shape)\n",
        "print(len(df[df.Target == 1]), len(df[df.Target == 2]))"
      ],
      "execution_count": 8,
      "outputs": [
        {
          "output_type": "stream",
          "text": [
            "(52974, 8)\n",
            "4867 4488\n"
          ],
          "name": "stdout"
        }
      ]
    },
    {
      "cell_type": "code",
      "metadata": {
        "collapsed": true,
        "deletable": true,
        "editable": true,
        "id": "blSepxekTEbv"
      },
      "source": [
        "df['Date'] = df['Timestamp'].apply(utils.timestamptodate)\n",
        "df['Date'] = pd.to_datetime(df['Date'])\n",
        "\n",
        "df['Year'] = df['Date'].dt.year\n",
        "df['Month'] = df['Date'].dt.month\n",
        "df['Week'] = df['Date'].dt.weekofyear\n",
        "df['Weekday'] = df['Date'].dt.weekday\n",
        "df['Day'] = df['Date'].dt.day\n",
        "df['Hour'] = df['Date'].dt.hour"
      ],
      "execution_count": 8,
      "outputs": []
    },
    {
      "cell_type": "code",
      "metadata": {
        "deletable": true,
        "editable": true,
        "id": "XpIDpSGaTEbw"
      },
      "source": [
        "df.shape"
      ],
      "execution_count": 11,
      "outputs": []
    },
    {
      "cell_type": "code",
      "metadata": {
        "deletable": true,
        "editable": true,
        "id": "jaiRs5lJTEbx"
      },
      "source": [
        "df = ta.add_all_ta_features(df, \"Open\", \"High\", \"Low\", \"Close\", \"Volume_BTC\", fillna=True)"
      ],
      "execution_count": 12,
      "outputs": []
    },
    {
      "cell_type": "code",
      "metadata": {
        "collapsed": true,
        "deletable": true,
        "editable": true,
        "id": "XOx-CsSVTEby"
      },
      "source": [
        "train, test = ta.split(df)"
      ],
      "execution_count": 13,
      "outputs": []
    },
    {
      "cell_type": "code",
      "metadata": {
        "collapsed": true,
        "deletable": true,
        "editable": true,
        "id": "vBPp13bsTEbz"
      },
      "source": [
        "excl = ['Close_target', 'Target', 'Date', 'Timestamp']\n",
        "cols = [c for c in df.columns if c not in excl]"
      ],
      "execution_count": 14,
      "outputs": []
    },
    {
      "cell_type": "code",
      "metadata": {
        "collapsed": true,
        "deletable": true,
        "editable": true,
        "colab": {
          "base_uri": "https://localhost:8080/"
        },
        "id": "jKETfGB8TEbz",
        "outputId": "26fbb2db-65a9-44b2-a72a-f678a5a47569"
      },
      "source": [
        "y_train = train['Target']\n",
        "y_mean = np.mean(y_train)\n",
        "xgb_params = {\n",
        "    'n_trees': 800,\n",
        "    'eta': 0.0045,\n",
        "    'max_depth': 20,\n",
        "    'subsample': 1,\n",
        "    'colsample_bytree': 0.95,\n",
        "    'colsample_bylevel': 0.95,\n",
        "    'objective': 'multi:softmax',\n",
        "    'num_class' : 3,\n",
        "    'eval_metric': 'rmse',\n",
        "    'base_score': 0,\n",
        "    'silent': 1\n",
        "}\n",
        "\n",
        "dtrain = xgb.DMatrix(train[cols], y_train)\n",
        "dtest = xgb.DMatrix(test[cols])\n",
        "\n",
        "cv_result = xgb.cv(xgb_params, dtrain)\n",
        "\n",
        "# train\n",
        "model = xgb.train(xgb_params, dtrain, num_boost_round=705)\n",
        "\n",
        "# predict\n",
        "y_pred = model.predict(dtest)\n",
        "y_true = test['Target']\n",
        "\n",
        "ta.metrics(y_true, y_pred)"
      ],
      "execution_count": 15,
      "outputs": [
        {
          "output_type": "stream",
          "text": [
            "Accuracy: 0.77293791829479384\n",
            "Coefficient Kappa: 0.22349834397494738\n",
            "Classification Report:\n",
            "             precision    recall\n",
            "\n",
            "       KEEP       0.83      0.97\n",
            "         UP       0.34      0.11\n",
            "       DOWN       0.35      0.08\n",
            "\n",
            "\n",
            "Confussion Matrix:\n",
            "[[10609   192    90]\n",
            " [  953   164    81]\n",
            " [  939   122    94]]\n"
          ],
          "name": "stdout"
        }
      ]
    }
  ]
}